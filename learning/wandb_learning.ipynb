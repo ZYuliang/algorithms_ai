{
 "cells": [
  {
   "cell_type": "markdown",
   "id": "611ac6ec-8da1-4d5f-901f-51e62ab78a27",
   "metadata": {},
   "source": [
    "追踪试验：记录您的配置参数\n",
    "记录你的损失和指标\n",
    "对数梯度和参数分布\n",
    "记录你的模型\n",
    "跟踪你的代码\n",
    "记录您的系统指标（GPU、CPU、内存、温度等）\n",
    "\n",
    "Make sure you set the project name before you initialize the Trainer.\n"
   ]
  },
  {
   "cell_type": "markdown",
   "id": "d41d7677-b5ec-4293-89fc-4e274c09a137",
   "metadata": {},
   "source": [
    "project ：项目，一个experient，WANDB_PROJECT\n",
    "Make sure you set the project name before you initialize the Trainer.初始化训练前，配置project-name\n",
    "\n",
    "run：一个project中可以有很多run，\n",
    "\n",
    "wandb.finish()结束， Jupyter 或 Google Colab notebook中使用"
   ]
  },
  {
   "cell_type": "code",
   "execution_count": null,
   "id": "5ed0198a-cdcd-4260-8713-614fd9763f15",
   "metadata": {},
   "outputs": [],
   "source": [
    "last_run_id = \"xxxxxxxx\"  # fetch the run_id from your wandb workspace\n",
    "\n",
    "# resume the wandb run from the run_id\n",
    "with wandb.init(\n",
    "    project=os.environ[\"WANDB_PROJECT\"],\n",
    "    id=last_run_id,\n",
    "    resume=\"must\",) as run:\n",
    "    \n",
    "  # Connect an Artifact to the run\n",
    "  my_checkpoint_name = f\"checkpoint-{last_run_id}:latest\"\n",
    "  my_checkpoint_artifact = run.use_artifact(my_model_name)\n",
    "  \n",
    "  # Download checkpoint to a folder and return the path\n",
    "  checkpoint_dir = my_checkpoint_artifact.download()\n",
    "  \n",
    "  # reinitialize your model and trainer\n",
    "  model = AutoModelForSequenceClassification.from_pretrained(\n",
    "      <model_name>, num_labels=num_labels)\n",
    "  # your awesome training arguments here.\n",
    "  training_args = TrainingArguments(...) \n",
    "  \n",
    "  trainer = Trainer(\n",
    "      model=model,\n",
    "      args=training_args,\n",
    "      ...)\n",
    "  \n",
    "  # make sure use the checkpoint dir to resume training from the checkpoint\n",
    "  trainer.train(resume_from_checkpoint=checkpoint_dir) "
   ]
  },
  {
   "cell_type": "code",
   "execution_count": null,
   "id": "27436b13-d09d-41bf-aa55-04d7bca8d11e",
   "metadata": {},
   "outputs": [],
   "source": [
    "if __name__ == \"__main__\":\n",
    "    # Get args\n",
    "    args = parse_args()\n",
    "    # Initialize run\n",
    "    run = wandb.init(\n",
    "        entity=args.entity,\n",
    "        project=args.project,\n",
    "        group=\"DDP\",  # all runs for the experiment in one group\n",
    "    )\n",
    "    # Train model with DDP\n",
    "    train(args, run)"
   ]
  },
  {
   "cell_type": "code",
   "execution_count": null,
   "id": "cfe34c04-10ef-4425-8109-344cb3f3eea8",
   "metadata": {},
   "outputs": [],
   "source": [
    "from accelerate import Accelerator\n",
    "\n",
    "# Tell the Accelerator object to log with wandb\n",
    "accelerator = Accelerator(log_with=\"wandb\")\n",
    "\n",
    "# Initialise your wandb run, passing wandb parameters and any config information\n",
    "accelerator.init_trackers(\n",
    "    project_name=\"my_project\", \n",
    "    config={\"dropout\": 0.1, \"learning_rate\": 1e-2}\n",
    "    init_kwargs={\"wandb\": {\"entity\": \"my-wandb-team\"}}\n",
    "    )\n",
    "\n",
    "...\n",
    "\n",
    "# Log to wandb by calling `accelerator.log`, `step` is optional\n",
    "accelerator.log({\"train_loss\": 1.12, \"valid_loss\": 0.8}, step=global_step)\n",
    "\n",
    "\n",
    "# Make sure that the wandb tracker finishes correctly\n",
    "accelerator.end_training()"
   ]
  }
 ],
 "metadata": {
  "kernelspec": {
   "display_name": "Python 3 (ipykernel)",
   "language": "python",
   "name": "python3"
  },
  "language_info": {
   "codemirror_mode": {
    "name": "ipython",
    "version": 3
   },
   "file_extension": ".py",
   "mimetype": "text/x-python",
   "name": "python",
   "nbconvert_exporter": "python",
   "pygments_lexer": "ipython3",
   "version": "3.10.9"
  }
 },
 "nbformat": 4,
 "nbformat_minor": 5
}
