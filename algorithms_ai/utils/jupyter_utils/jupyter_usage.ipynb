{
 "cells": [
  {
   "cell_type": "markdown",
   "source": [
    "jupyter要在python环境中才能使用\n",
    "\n",
    "安装\n",
    "\n",
    "`pip install jupyter`\n",
    "\n",
    "`pip install jupyterlab`\n",
    "\n",
    "启动jupyter lab：\n",
    "\n",
    "`jupyter lab --ip=0.0.0.0`\n",
    "\n",
    "`nohup jupyter lab --no-browser --allow-root --port=9999 >> jupyter.log 2>&1 &`\n",
    "\n",
    "指定notebook路径\n",
    "`jupyter lab --ip=0.0.0.0 --notebook-dir ~/disk/algorithms_ai/`"
   ],
   "metadata": {
    "collapsed": false
   }
  },
  {
   "cell_type": "raw",
   "source": [
    "端口检查开放:\n",
    "apt get install filrewall # Unbuntu\n",
    "yum install filrewall # centOS\n",
    "firewall-cmd --permanent --query-port 21/tcp\n",
    "firewall-cmd --permanent --add-port 21/tcp\n",
    "\n",
    "jupyter密码&端口设置:\n",
    "jupyter lab --port=9999 --no-browser\n",
    "jupyter lab --port=9999 --no-browser --allow-root\n",
    "jupyter server password\n",
    "\n"
   ],
   "metadata": {
    "collapsed": false
   }
  },
  {
   "cell_type": "raw",
   "source": [
    "在pycharm中配置\n",
    "创建一个ipynb文件，进入jupyter配置，使用configured server：http://192.168.100.210:8888/?token=e09931c6c31164f650dd21665380481bb4680593cb1af145\n"
   ],
   "metadata": {
    "collapsed": false
   }
  },
  {
   "cell_type": "code",
   "execution_count": 2,
   "outputs": [
    {
     "name": "stdout",
     "output_type": "stream",
     "text": [
      "2\n"
     ]
    }
   ],
   "source": [
    "print(2)"
   ],
   "metadata": {
    "collapsed": false,
    "pycharm": {
     "name": "#%%\n"
    }
   }
  },
  {
   "cell_type": "code",
   "execution_count": null,
   "outputs": [],
   "source": [],
   "metadata": {
    "collapsed": false,
    "pycharm": {
     "name": "#%%\n"
    }
   }
  }
 ],
 "metadata": {
  "kernelspec": {
   "display_name": "Python 3",
   "language": "python",
   "name": "python3"
  },
  "language_info": {
   "codemirror_mode": {
    "name": "ipython",
    "version": 2
   },
   "file_extension": ".py",
   "mimetype": "text/x-python",
   "name": "python",
   "nbconvert_exporter": "python",
   "pygments_lexer": "ipython2",
   "version": "2.7.6"
  }
 },
 "nbformat": 4,
 "nbformat_minor": 0
}